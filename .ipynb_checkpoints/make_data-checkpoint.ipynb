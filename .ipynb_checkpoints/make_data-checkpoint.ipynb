{
 "cells": [
  {
   "cell_type": "code",
   "execution_count": 1,
   "metadata": {
    "collapsed": true
   },
   "outputs": [],
   "source": [
    "!pip install keras cython h5py --quiet"
   ]
  },
  {
   "cell_type": "code",
   "execution_count": 1,
   "metadata": {
    "collapsed": true
   },
   "outputs": [],
   "source": [
    "import pandas as pd\n",
    "import numpy as np\n",
    "import zipfile\n",
    "import matplotlib.pyplot as plt\n",
    "\n",
    "%matplotlib inline"
   ]
  },
  {
   "cell_type": "code",
   "execution_count": 2,
   "metadata": {
    "collapsed": true
   },
   "outputs": [],
   "source": [
    "with zipfile.ZipFile('data/training.zip') as zip:\n",
    "    with zip.open('training.csv') as myZip:\n",
    "        df = pd.read_csv(myZip)"
   ]
  },
  {
   "cell_type": "code",
   "execution_count": 3,
   "metadata": {},
   "outputs": [
    {
     "data": {
      "text/plain": [
       "(7000, 9)"
      ]
     },
     "execution_count": 3,
     "metadata": {},
     "output_type": "execute_result"
    }
   ],
   "source": [
    "four_keypoints_df = df.loc[:, ['nose_tip_x', 'nose_tip_y',\n",
    "                               'mouth_center_bottom_lip_x', 'mouth_center_bottom_lip_y',\n",
    "                               'left_eye_center_x', 'left_eye_center_y',\n",
    "                               'right_eye_center_x', 'right_eye_center_y',\n",
    "                               'Image']\n",
    "                          ].dropna().reset_index(drop=True)\n",
    "\n",
    "four_keypoints_df.shape"
   ]
  },
  {
   "cell_type": "code",
   "execution_count": 4,
   "metadata": {
    "scrolled": true
   },
   "outputs": [],
   "source": [
    "uniform_df = pd.DataFrame(columns=four_keypoints_df.columns)\n",
    "\n",
    "for i in range(48):\n",
    "    for j in range(48):\n",
    "        x_mask = (four_keypoints_df['nose_tip_x'] >= i*4) & (four_keypoints_df['nose_tip_x'] < i*4+4)\n",
    "        y_mask = (four_keypoints_df['nose_tip_y'] >= j*4) & (four_keypoints_df['nose_tip_y'] < j*4+4)\n",
    "        target_pixel_data = four_keypoints_df[x_mask & y_mask]\n",
    "        if len(target_pixel_data) == 0:\n",
    "            pass\n",
    "        elif len(target_pixel_data) <= 20:\n",
    "            uniform_df = pd.concat([uniform_df, target_pixel_data])\n",
    "        else:\n",
    "            uniform_df = pd.concat([uniform_df, target_pixel_data.sample(2, random_state=19)])"
   ]
  },
  {
   "cell_type": "code",
   "execution_count": 14,
   "metadata": {},
   "outputs": [
    {
     "data": {
      "text/plain": [
       "(357, 9)"
      ]
     },
     "execution_count": 14,
     "metadata": {},
     "output_type": "execute_result"
    }
   ],
   "source": [
    "uniform_df = uniform_df.reset_index(drop=True)\n",
    "uniform_df.shape"
   ]
  },
  {
   "cell_type": "code",
   "execution_count": 15,
   "metadata": {},
   "outputs": [],
   "source": [
    "# uniform_df.nose_tip_x.hist(bins=50)"
   ]
  },
  {
   "cell_type": "code",
   "execution_count": 16,
   "metadata": {},
   "outputs": [],
   "source": [
    "# plt.scatter(uniform_df.nose_tip_x, uniform_df.nose_tip_y)"
   ]
  },
  {
   "cell_type": "code",
   "execution_count": 17,
   "metadata": {},
   "outputs": [],
   "source": [
    "# plt.scatter(four_keypoints_df.nose_tip_x, four_keypoints_df.nose_tip_y)"
   ]
  },
  {
   "cell_type": "code",
   "execution_count": 18,
   "metadata": {
    "collapsed": true
   },
   "outputs": [],
   "source": [
    "from lib.image_generator import adjust_contrast, flip_images, rotate_images"
   ]
  },
  {
   "cell_type": "code",
   "execution_count": 19,
   "metadata": {},
   "outputs": [
    {
     "name": "stdout",
     "output_type": "stream",
     "text": [
      "CPU times: user 24.8 s, sys: 200 ms, total: 25 s\n",
      "Wall time: 25 s\n"
     ]
    }
   ],
   "source": [
    "%%time\n",
    "rotated_cw_5 = rotate_images(uniform_df, 5)\n",
    "rotated_ccw_10 = rotate_images(uniform_df, -10)\n",
    "rotated_cw_15 = rotate_images(uniform_df, 15)\n",
    "rotated_ccw_20 = rotate_images(uniform_df, -20)"
   ]
  },
  {
   "cell_type": "code",
   "execution_count": 24,
   "metadata": {},
   "outputs": [
    {
     "data": {
      "text/plain": [
       "(1785, 9)"
      ]
     },
     "execution_count": 24,
     "metadata": {},
     "output_type": "execute_result"
    }
   ],
   "source": [
    "mixed_data_1 = pd.concat([uniform_df,\n",
    "                          rotated_cw_5,\n",
    "                          rotated_ccw_10,\n",
    "                          rotated_cw_15,\n",
    "                          rotated_ccw_20]).reset_index(drop=True)\n",
    "mixed_data_1.shape"
   ]
  },
  {
   "cell_type": "code",
   "execution_count": 25,
   "metadata": {},
   "outputs": [
    {
     "name": "stdout",
     "output_type": "stream",
     "text": [
      "CPU times: user 32.7 s, sys: 140 ms, total: 32.8 s\n",
      "Wall time: 32.8 s\n"
     ]
    }
   ],
   "source": [
    "%%time\n",
    "adj_cont_80 = adjust_contrast(mixed_data_1, .8)\n",
    "adj_cont_50 = adjust_contrast(mixed_data_1, .5)\n",
    "adj_cont_20 = adjust_contrast(mixed_data_1, .2)"
   ]
  },
  {
   "cell_type": "code",
   "execution_count": 26,
   "metadata": {},
   "outputs": [
    {
     "data": {
      "text/plain": [
       "(7140, 9)"
      ]
     },
     "execution_count": 26,
     "metadata": {},
     "output_type": "execute_result"
    }
   ],
   "source": [
    "mixed_data_2 = pd.concat([mixed_data_1,\n",
    "                          adj_cont_20,\n",
    "                          adj_cont_50,\n",
    "                          adj_cont_80]).reset_index(drop=True)\n",
    "mixed_data_2.shape"
   ]
  },
  {
   "cell_type": "code",
   "execution_count": 27,
   "metadata": {},
   "outputs": [
    {
     "name": "stdout",
     "output_type": "stream",
     "text": [
      "CPU times: user 56.9 s, sys: 20 ms, total: 56.9 s\n",
      "Wall time: 57 s\n"
     ]
    }
   ],
   "source": [
    "%%time\n",
    "flipped_images_df = flip_images(mixed_data_2)"
   ]
  },
  {
   "cell_type": "code",
   "execution_count": 28,
   "metadata": {},
   "outputs": [
    {
     "data": {
      "text/plain": [
       "(14280, 9)"
      ]
     },
     "execution_count": 28,
     "metadata": {},
     "output_type": "execute_result"
    }
   ],
   "source": [
    "mixed_data_final = pd.concat([mixed_data_2, flipped_images_df]).reset_index(drop=True)\n",
    "mixed_data_final.shape"
   ]
  },
  {
   "cell_type": "code",
   "execution_count": 29,
   "metadata": {
    "collapsed": true
   },
   "outputs": [],
   "source": [
    "from sklearn.utils import shuffle"
   ]
  },
  {
   "cell_type": "code",
   "execution_count": 30,
   "metadata": {
    "collapsed": true
   },
   "outputs": [],
   "source": [
    "mixed_data_final = shuffle(mixed_data_final).reset_index(drop=True)"
   ]
  },
  {
   "cell_type": "code",
   "execution_count": 31,
   "metadata": {},
   "outputs": [
    {
     "data": {
      "text/plain": [
       "<matplotlib.axes._subplots.AxesSubplot at 0x7f29c8deb510>"
      ]
     },
     "execution_count": 31,
     "metadata": {},
     "output_type": "execute_result"
    },
    {
     "data": {
      "image/png": "[encoded data removed]",
      "text/plain": [
       "<matplotlib.figure.Figure at 0x7f29c815bc10>"
      ]
     },
     "metadata": {},
     "output_type": "display_data"
    }
   ],
   "source": [
    "mixed_data_final.nose_tip_x.hist(bins=50)"
   ]
  },
  {
   "cell_type": "code",
   "execution_count": 32,
   "metadata": {},
   "outputs": [
    {
     "data": {
      "text/plain": [
       "<matplotlib.axes._subplots.AxesSubplot at 0x7f29caf3e390>"
      ]
     },
     "execution_count": 32,
     "metadata": {},
     "output_type": "execute_result"
    },
    {
     "data": {
      "image/png": "[encoded data removed]",
      "text/plain": [
       "<matplotlib.figure.Figure at 0x7f29c8ebcf50>"
      ]
     },
     "metadata": {},
     "output_type": "display_data"
    }
   ],
   "source": [
    "mixed_data_final.nose_tip_y.hist(bins=50)"
   ]
  },
  {
   "cell_type": "code",
   "execution_count": 33,
   "metadata": {
    "collapsed": true
   },
   "outputs": [],
   "source": [
    "mixed_data_final.to_pickle('mixed_data_final.data')"
   ]
  },
  {
   "cell_type": "code",
   "execution_count": null,
   "metadata": {
    "collapsed": true
   },
   "outputs": [],
   "source": []
  },
  {
   "cell_type": "code",
   "execution_count": 35,
   "metadata": {},
   "outputs": [],
   "source": [
    "# f, ax = plt.subplots(4, 4, figsize=(16, 16))\n",
    "# for i in range(4):\n",
    "#     for j in range(4):\n",
    "#         for k in range(4):\n",
    "#             ax[i, j].plot(mixed_data_final.iloc[i*4 + j, 2*k], mixed_data_final.iloc[i*4 + j, 2*k+1], c='r', marker='o')\n",
    "#         ax[i, j].imshow(np.fromstring(mixed_data_final.loc[i*4 + j, 'Image'], sep=' ').reshape(96, 96), cmap='gray')"
   ]
  },
  {
   "cell_type": "code",
   "execution_count": null,
   "metadata": {
    "collapsed": true
   },
   "outputs": [],
   "source": []
  }
 ],
 "metadata": {
  "kernelspec": {
   "display_name": "Python 2",
   "language": "python",
   "name": "python2"
  },
  "language_info": {
   "codemirror_mode": {
    "name": "ipython",
    "version": 2
   },
   "file_extension": ".py",
   "mimetype": "text/x-python",
   "name": "python",
   "nbconvert_exporter": "python",
   "pygments_lexer": "ipython2",
   "version": "2.7.12"
  }
 },
 "nbformat": 4,
 "nbformat_minor": 2
}
